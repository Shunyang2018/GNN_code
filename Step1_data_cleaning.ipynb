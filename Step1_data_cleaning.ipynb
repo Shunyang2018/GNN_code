{
 "cells": [
  {
   "cell_type": "code",
   "execution_count": 23,
   "metadata": {},
   "outputs": [
    {
     "name": "stdout",
     "output_type": "stream",
     "text": [
      "The autoreload extension is already loaded. To reload it, use:\n",
      "  %reload_ext autoreload\n"
     ]
    }
   ],
   "source": [
    "# auto load all the functions\n",
    "%load_ext autoreload\n",
    "%autoreload 2\n",
    "import pandas as pd\n",
    "from std import stdsmi # standardize smiles\n",
    "from utils import *"
   ]
  },
  {
   "cell_type": "markdown",
   "metadata": {},
   "source": [
    "## Read experimental file"
   ]
  },
  {
   "cell_type": "code",
   "execution_count": 8,
   "metadata": {},
   "outputs": [
    {
     "data": {
      "text/html": [
       "<div>\n",
       "<style scoped>\n",
       "    .dataframe tbody tr th:only-of-type {\n",
       "        vertical-align: middle;\n",
       "    }\n",
       "\n",
       "    .dataframe tbody tr th {\n",
       "        vertical-align: top;\n",
       "    }\n",
       "\n",
       "    .dataframe thead th {\n",
       "        text-align: right;\n",
       "    }\n",
       "</style>\n",
       "<table border=\"1\" class=\"dataframe\">\n",
       "  <thead>\n",
       "    <tr style=\"text-align: right;\">\n",
       "      <th></th>\n",
       "      <th>Order</th>\n",
       "      <th>Source</th>\n",
       "      <th>ChemicalName</th>\n",
       "      <th>C18RT</th>\n",
       "      <th>PFPRT</th>\n",
       "      <th>INCHIKEY</th>\n",
       "      <th>Short</th>\n",
       "      <th>CanonicalSMILES</th>\n",
       "      <th>Unnamed: 8</th>\n",
       "      <th>pred_C18</th>\n",
       "      <th>error</th>\n",
       "    </tr>\n",
       "  </thead>\n",
       "  <tbody>\n",
       "    <tr>\n",
       "      <th>0</th>\n",
       "      <td>94</td>\n",
       "      <td>analyticon</td>\n",
       "      <td>3-Hydroxy-12-oleanene-27,28-dioic acid, 3-O-(6...</td>\n",
       "      <td>NaN</td>\n",
       "      <td>4.614</td>\n",
       "      <td>PUOQHFWXBKTHST-UHFFFAOYSA-N</td>\n",
       "      <td>PUOQHFWXBKTHST</td>\n",
       "      <td>CC1CCC2(CCC3(C(=CCC4C3(CCC5C4(CCC(C5(C)C)OC6C(...</td>\n",
       "      <td>NaN</td>\n",
       "      <td>5.833116</td>\n",
       "      <td>NaN</td>\n",
       "    </tr>\n",
       "    <tr>\n",
       "      <th>1</th>\n",
       "      <td>95</td>\n",
       "      <td>analyticon</td>\n",
       "      <td>NCGC00169815-02_C36H56O9_Urs-12-ene-27,28-dioi...</td>\n",
       "      <td>5.183</td>\n",
       "      <td>4.683</td>\n",
       "      <td>PUOQHFWXBKTHST-UHFFFAOYSA-N</td>\n",
       "      <td>PUOQHFWXBKTHST</td>\n",
       "      <td>CC1CCC2(CCC3(C(=CCC4C3(CCC5C4(CCC(C5(C)C)OC6C(...</td>\n",
       "      <td>NaN</td>\n",
       "      <td>5.833116</td>\n",
       "      <td>0.650116</td>\n",
       "    </tr>\n",
       "    <tr>\n",
       "      <th>2</th>\n",
       "      <td>144</td>\n",
       "      <td>analyticon</td>\n",
       "      <td>3-Hydroxy-6-[(3-hydroxy-2,4-dimethylhept-4-eno...</td>\n",
       "      <td>3.950</td>\n",
       "      <td>3.446</td>\n",
       "      <td>JNKVBUQSDAHKDQ-VQHVLOKHSA-N</td>\n",
       "      <td>JNKVBUQSDAHKDQ</td>\n",
       "      <td>CCC=C(C)C(C(C)C(=O)NCC(=O)C(C)C(C(C)C(=O)O)O)O</td>\n",
       "      <td>NaN</td>\n",
       "      <td>3.705359</td>\n",
       "      <td>0.244641</td>\n",
       "    </tr>\n",
       "    <tr>\n",
       "      <th>3</th>\n",
       "      <td>156</td>\n",
       "      <td>analyticon</td>\n",
       "      <td>[(2R,3S,4S,5R,6S)-3,4,5-trihydroxy-6-[2-hydrox...</td>\n",
       "      <td>3.950</td>\n",
       "      <td>3.700</td>\n",
       "      <td>ZOEFIRUNMVHSJA-XXZDZOCTSA-N</td>\n",
       "      <td>ZOEFIRUNMVHSJA</td>\n",
       "      <td>CC(=CC1(C(C(C(=O)C(C1=O)(C)C)(C)C)OC2C(C(C(C(O...</td>\n",
       "      <td>NaN</td>\n",
       "      <td>3.998025</td>\n",
       "      <td>0.048025</td>\n",
       "    </tr>\n",
       "    <tr>\n",
       "      <th>4</th>\n",
       "      <td>266</td>\n",
       "      <td>analyticon</td>\n",
       "      <td>Diosmin; Barosmin; Daflon</td>\n",
       "      <td>3.300</td>\n",
       "      <td>3.300</td>\n",
       "      <td>GZSOSUNBTXMUFQ-YFAPSIMESA-N</td>\n",
       "      <td>GZSOSUNBTXMUFQ</td>\n",
       "      <td>CC1C(C(C(C(O1)OCC2C(C(C(C(O2)OC3=CC(=C4C(=C3)O...</td>\n",
       "      <td>NaN</td>\n",
       "      <td>3.331451</td>\n",
       "      <td>0.031451</td>\n",
       "    </tr>\n",
       "  </tbody>\n",
       "</table>\n",
       "</div>"
      ],
      "text/plain": [
       "   Order      Source                                       ChemicalName  \\\n",
       "0     94  analyticon  3-Hydroxy-12-oleanene-27,28-dioic acid, 3-O-(6...   \n",
       "1     95  analyticon  NCGC00169815-02_C36H56O9_Urs-12-ene-27,28-dioi...   \n",
       "2    144  analyticon  3-Hydroxy-6-[(3-hydroxy-2,4-dimethylhept-4-eno...   \n",
       "3    156  analyticon  [(2R,3S,4S,5R,6S)-3,4,5-trihydroxy-6-[2-hydrox...   \n",
       "4    266  analyticon                          Diosmin; Barosmin; Daflon   \n",
       "\n",
       "   C18RT  PFPRT                     INCHIKEY           Short  \\\n",
       "0    NaN  4.614  PUOQHFWXBKTHST-UHFFFAOYSA-N  PUOQHFWXBKTHST   \n",
       "1  5.183  4.683  PUOQHFWXBKTHST-UHFFFAOYSA-N  PUOQHFWXBKTHST   \n",
       "2  3.950  3.446  JNKVBUQSDAHKDQ-VQHVLOKHSA-N  JNKVBUQSDAHKDQ   \n",
       "3  3.950  3.700  ZOEFIRUNMVHSJA-XXZDZOCTSA-N  ZOEFIRUNMVHSJA   \n",
       "4  3.300  3.300  GZSOSUNBTXMUFQ-YFAPSIMESA-N  GZSOSUNBTXMUFQ   \n",
       "\n",
       "                                     CanonicalSMILES  Unnamed: 8  pred_C18  \\\n",
       "0  CC1CCC2(CCC3(C(=CCC4C3(CCC5C4(CCC(C5(C)C)OC6C(...         NaN  5.833116   \n",
       "1  CC1CCC2(CCC3(C(=CCC4C3(CCC5C4(CCC(C5(C)C)OC6C(...         NaN  5.833116   \n",
       "2     CCC=C(C)C(C(C)C(=O)NCC(=O)C(C)C(C(C)C(=O)O)O)O         NaN  3.705359   \n",
       "3  CC(=CC1(C(C(C(=O)C(C1=O)(C)C)(C)C)OC2C(C(C(C(O...         NaN  3.998025   \n",
       "4  CC1C(C(C(C(O1)OCC2C(C(C(C(O2)OC3=CC(=C4C(=C3)O...         NaN  3.331451   \n",
       "\n",
       "      error  \n",
       "0       NaN  \n",
       "1  0.650116  \n",
       "2  0.244641  \n",
       "3  0.048025  \n",
       "4  0.031451  "
      ]
     },
     "execution_count": 8,
     "metadata": {},
     "output_type": "execute_result"
    }
   ],
   "source": [
    "df = pd.read_excel('../July_28.xlsx',sheet_name='all',header=1)\n",
    "df.head()"
   ]
  },
  {
   "cell_type": "markdown",
   "metadata": {},
   "source": [
    "## SMILES standardization"
   ]
  },
  {
   "cell_type": "code",
   "execution_count": null,
   "metadata": {},
   "outputs": [],
   "source": [
    "# clean dimolecules, neutralisation, desalt, standardize smiles\n",
    "df['CanonicalSMILES'] = df['CanonicalSMILES'].apply(stdsmi)\n",
    "# remove null smiles and wrong smiles\n",
    "df = df.dropna(subset=['CanonicalSMILES'])"
   ]
  },
  {
   "cell_type": "markdown",
   "metadata": {},
   "source": [
    "## Experimental data quality control"
   ]
  },
  {
   "cell_type": "code",
   "execution_count": 15,
   "metadata": {},
   "outputs": [
    {
     "data": {
      "image/png": "[encoded data removed]",
      "text/plain": [
       "<Figure size 640x480 with 1 Axes>"
      ]
     },
     "metadata": {},
     "output_type": "display_data"
    }
   ],
   "source": [
    "# Use C18 column as an example\n",
    "clean = df[df['C18RT'].notnull()]\n",
    "# remove outliers by plotting the histogram\n",
    "clean['C18RT'].hist(bins=100)\n",
    "# remove outliers by setting the range\n",
    "clean = clean[(clean['C18RT'] > 0) & (clean['C18RT'] < 10)]\n",
    "# get average retention time for duplicates\n",
    "# clean = clean.groupby('CanonicalSMILES')['C18RT'].mean().reset_index()\n",
    "# save the cleaned data\n",
    "# clean.to_csv('C18_clean.csv',index=False)"
   ]
  },
  {
   "cell_type": "markdown",
   "metadata": {},
   "source": [
    "### From quality control comounds, the intrinsic error is around x min for C18 column"
   ]
  },
  {
   "cell_type": "code",
   "execution_count": null,
   "metadata": {},
   "outputs": [],
   "source": [
    "# get inchikeys from smiles\n",
    "\n",
    "clean['InChIKey'] = clean['CanonicalSMILES'].apply(smiles_to_inchikey)"
   ]
  },
  {
   "cell_type": "code",
   "execution_count": 28,
   "metadata": {},
   "outputs": [
    {
     "name": "stdout",
     "output_type": "stream",
     "text": [
      "Mean difference in C18: 0.19632142857142854\n"
     ]
    },
    {
     "data": {
      "image/png": "[encoded data removed]",
      "text/plain": [
       "<Figure size 500x500 with 1 Axes>"
      ]
     },
     "metadata": {},
     "output_type": "display_data"
    }
   ],
   "source": [
    "# Filter and calculate retention time differences for duplicate compounds\n",
    "\n",
    "results, mean_diff = calculate_retention_time_difference(clean, column='C18RT')\n",
    "print(f\"Mean difference in C18: {mean_diff}\")"
   ]
  },
  {
   "cell_type": "markdown",
   "metadata": {},
   "source": [
    "## Get classifications"
   ]
  },
  {
   "cell_type": "code",
   "execution_count": null,
   "metadata": {},
   "outputs": [],
   "source": [
    "SERVER_URL = \"http://192.168.0.2:1234/\"\n",
    "smiles_list = clean[\"CanonicalSMILES\"].to_list()\n",
    "responses = query(smiles_list, SERVER_URL)"
   ]
  },
  {
   "cell_type": "code",
   "execution_count": null,
   "metadata": {},
   "outputs": [],
   "source": [
    "# convert results to df\n",
    "C = []\n",
    "pathway = []\n",
    "SC = []\n",
    "glyco = []\n",
    "i=0\n",
    "for r in responses:\n",
    "    try:\n",
    "        test = r.json() \n",
    "    except:\n",
    "        C.append('NA')              \n",
    "        pathway.append('NA')\n",
    "        SC.append('NA')\n",
    "        glyco.append('NA')\n",
    "        continue\n",
    "    C.append(test['class_results'])              \n",
    "    pathway.append(test['pathway_results'])\n",
    "    SC.append(test['superclass_results'])\n",
    "    glyco.append(test['isglycoside'])\n",
    "    i += 1\n",
    "    \n",
    "df = pd.DataFrame({'SMILES':smiles_list,'pathway_results':pathway, 'superclass_results':SC, 'class_results':C, 'isglycoside':glyco })\n",
    "df['class_results'] = df['class_results'].apply(lambda x: ''.join(x))\n",
    "df['pathway_results'] = df['pathway_results'].apply(lambda x: ''.join(x))\n",
    "df['superclass_results'] = df['superclass_results'].apply(lambda x: ''.join(x))\n",
    "df.to_csv('C18_classfication.csv',index=False)"
   ]
  },
  {
   "cell_type": "code",
   "execution_count": null,
   "metadata": {},
   "outputs": [],
   "source": [
    "# plot \n",
    "sns.histplot(data=df, x=\"pathway_results\")"
   ]
  },
  {
   "cell_type": "code",
   "execution_count": null,
   "metadata": {},
   "outputs": [],
   "source": []
  }
 ],
 "metadata": {
  "kernelspec": {
   "display_name": "autogluon",
   "language": "python",
   "name": "python3"
  },
  "language_info": {
   "codemirror_mode": {
    "name": "ipython",
    "version": 3
   },
   "file_extension": ".py",
   "mimetype": "text/x-python",
   "name": "python",
   "nbconvert_exporter": "python",
   "pygments_lexer": "ipython3",
   "version": "3.8.13"
  }
 },
 "nbformat": 4,
 "nbformat_minor": 2
}
