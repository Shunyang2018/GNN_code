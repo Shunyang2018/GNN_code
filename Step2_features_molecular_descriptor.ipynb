{
 "cells": [
  {
   "cell_type": "code",
   "execution_count": 50,
   "metadata": {},
   "outputs": [
    {
     "name": "stdout",
     "output_type": "stream",
     "text": [
      "The autoreload extension is already loaded. To reload it, use:\n",
      "  %reload_ext autoreload\n"
     ]
    }
   ],
   "source": [
    "# auto load all the functions\n",
    "%load_ext autoreload\n",
    "%autoreload 2\n",
    "import pandas as pd\n",
    "\n",
    "\n",
    "from pca_split import pca_split_and_save, calculate_descriptors"
   ]
  },
  {
   "cell_type": "markdown",
   "metadata": {},
   "source": [
    "## Calculate molecular descriptors for PCA"
   ]
  },
  {
   "cell_type": "code",
   "execution_count": 13,
   "metadata": {},
   "outputs": [
    {
     "name": "stderr",
     "output_type": "stream",
     "text": [
      "/Users/shunyang.wang/miniconda3/envs/autogluon/lib/python3.8/site-packages/numpy/core/fromnumeric.py:86: RuntimeWarning: overflow encountered in reduce\n",
      "  return ufunc.reduce(obj, axis, dtype, out, **passkwargs)\n",
      "[00:14:11] SMILES Parse Error: syntax error while parsing: CC(=C)[C@H]1CCC(=CC1)CO,\n",
      "[00:14:11] SMILES Parse Error: Failed parsing SMILES 'CC(=C)[C@H]1CCC(=CC1)CO,' for input: 'CC(=C)[C@H]1CCC(=CC1)CO,'\n",
      "[00:27:36] SMILES Parse Error: syntax error while parsing: C[C@@H]([C@@H](C1=CC=CC=C1)O)NC,\n",
      "[00:27:36] SMILES Parse Error: Failed parsing SMILES 'C[C@@H]([C@@H](C1=CC=CC=C1)O)NC,' for input: 'C[C@@H]([C@@H](C1=CC=CC=C1)O)NC,'\n",
      "[00:28:02] SMILES Parse Error: syntax error while parsing: C[C@]12CC[C@H]3[C@H]([C@@H]1C[C@H]([C@@H]2OC(=O)CCC(=O)O)OC(=O)CCC(=O)O)CCC4=C3C=CC(=C4)O,\n",
      "[00:28:02] SMILES Parse Error: Failed parsing SMILES 'C[C@]12CC[C@H]3[C@H]([C@@H]1C[C@H]([C@@H]2OC(=O)CCC(=O)O)OC(=O)CCC(=O)O)CCC4=C3C=CC(=C4)O,' for input: 'C[C@]12CC[C@H]3[C@H]([C@@H]1C[C@H]([C@@H]2OC(=O)CCC(=O)O)OC(=O)CCC(=O)O)CCC4=C3C=CC(=C4)O,'\n"
     ]
    }
   ],
   "source": [
    "file = '../C18RT.csv'\n",
    "df = pd.read_csv(file)\n",
    "df = df[['C18RT','CanonicalSMILES']]\n",
    "\n",
    "features = calculate_descriptors(df)"
   ]
  },
  {
   "cell_type": "code",
   "execution_count": 26,
   "metadata": {},
   "outputs": [],
   "source": [
    "# clean the data\n",
    "# convert to float,  strings\n",
    "tmp_features = features.iloc[:,2:].apply(pd.to_numeric, errors='coerce')\n",
    "# replace NaN with 0\n",
    "tmp_features.fillna(0, inplace=True)"
   ]
  },
  {
   "cell_type": "markdown",
   "metadata": {},
   "source": [
    "## Train test split, PCA visulization "
   ]
  },
  {
   "cell_type": "code",
   "execution_count": 51,
   "metadata": {},
   "outputs": [
    {
     "name": "stdout",
     "output_type": "stream",
     "text": [
      "Splitting the dataset using stratified method...\n",
      "saving the dataframes as csv files\n"
     ]
    },
    {
     "name": "stderr",
     "output_type": "stream",
     "text": [
      "/Users/shunyang.wang/miniconda3/envs/autogluon/lib/python3.8/site-packages/sklearn/cluster/_kmeans.py:1416: FutureWarning: The default value of `n_init` will change from 10 to 'auto' in 1.4. Set the value of `n_init` explicitly to suppress the warning\n",
      "  super()._check_params_vs_input(X, default_n_init=10)\n"
     ]
    }
   ],
   "source": [
    "train, test  = pca_split_and_save(tmp_features)"
   ]
  },
  {
   "cell_type": "markdown",
   "metadata": {},
   "source": [
    "## Baseline model"
   ]
  },
  {
   "cell_type": "code",
   "execution_count": 74,
   "metadata": {},
   "outputs": [
    {
     "name": "stdout",
     "output_type": "stream",
     "text": [
      "Train R2: 0.9976\n",
      "Test R2: 0.8336\n",
      "MAE: 0.4604\n"
     ]
    }
   ],
   "source": [
    "# get baseline regression model using XGBoost\n",
    "from xgboost import XGBRegressor\n",
    "from sklearn.metrics import r2_score, mean_absolute_error\n",
    "\n",
    "y_train = df.iloc[train.index]['C18RT']\n",
    "y_test = df.iloc[test.index]['C18RT']\n",
    "X_train, X_test = train, test\n",
    "# Train Baseline Model\n",
    "baseline_model = XGBRegressor(random_state=999)# reproducibility\n",
    "baseline_model.fit(X_train, y_train)\n",
    "\n",
    "# Predictions\n",
    "train_pred = baseline_model.predict(X_train)\n",
    "test_pred = baseline_model.predict(X_test)\n",
    "\n",
    "# Evaluate Model\n",
    "r2_train = r2_score(y_train, train_pred)\n",
    "r2_test = r2_score(y_test, test_pred)\n",
    "\n",
    "mae = mean_absolute_error(y_test, test_pred)\n",
    "\n",
    "\n",
    "print(f\"Train R2: {r2_train:.4f}\")\n",
    "print(f\"Test R2: {r2_test:.4f}\")\n",
    "print(f\"MAE: {mae:.4f}\")\n"
   ]
  },
  {
   "cell_type": "code",
   "execution_count": 75,
   "metadata": {},
   "outputs": [
    {
     "name": "stdout",
     "output_type": "stream",
     "text": [
      "Top 10 important features:\n",
      "             Feature  Importance\n",
      "1553           SLogP    0.163085\n",
      "1275            BIC0    0.097576\n",
      "440          AATSC0i    0.054507\n",
      "1333      SlogP_VSA5    0.029593\n",
      "1257             IC0    0.023526\n",
      "3              nBase    0.021050\n",
      "1214       AETA_beta    0.019901\n",
      "296          ATSC0se    0.016422\n",
      "1156          MINaaN    0.015074\n",
      "1247  ETA_dEpsilon_D    0.013121\n",
      "Original number of features: 1613\n",
      "Reduced number of features: 100\n"
     ]
    }
   ],
   "source": [
    "# Feature Importances\n",
    "feature_importances = baseline_model.feature_importances_\n",
    "feature_importance_df = pd.DataFrame({\n",
    "    'Feature': X_train.columns,\n",
    "    'Importance': feature_importances\n",
    "}).sort_values(by='Importance', ascending=False)\n",
    "\n",
    "# Print top 10 features\n",
    "print(\"Top 10 important features:\")\n",
    "print(feature_importance_df.head(10))\n",
    "\n",
    "# Select top 100 most important features\n",
    "top_200_features = feature_importance_df.head(100)['Feature']\n",
    "X_train_selected = X_train[top_200_features]\n",
    "X_test_selected = X_test[top_200_features]\n",
    "\n",
    "# Print the shape of the new dataset\n",
    "print(f\"Original number of features: {X_train.shape[1]}\")\n",
    "print(f\"Reduced number of features: {X_train_selected.shape[1]}\")\n",
    "\n"
   ]
  },
  {
   "cell_type": "code",
   "execution_count": 76,
   "metadata": {},
   "outputs": [
    {
     "name": "stdout",
     "output_type": "stream",
     "text": [
      "New Model Train R2: 0.9967\n",
      "New Model Test R2: 0.8397\n",
      "New Model MAE: 0.4474\n"
     ]
    }
   ],
   "source": [
    "# Train a new model on selected features (for demonstration)\n",
    "next_model = XGBRegressor(random_state=999)\n",
    "next_model.fit(X_train_selected, y_train)\n",
    "\n",
    "# Evaluate the new model\n",
    "train_pred_selected = next_model.predict(X_train_selected)\n",
    "test_pred_selected = next_model.predict(X_test_selected)\n",
    "\n",
    "r2_train_selected = r2_score(y_train, train_pred_selected)\n",
    "r2_test_selected = r2_score(y_test, test_pred_selected)\n",
    "mae_selected = mean_absolute_error(y_test, test_pred_selected)\n",
    "\n",
    "print(f\"New Model Train R2: {r2_train_selected:.4f}\")\n",
    "print(f\"New Model Test R2: {r2_test_selected:.4f}\")\n",
    "print(f\"New Model MAE: {mae_selected:.4f}\")"
   ]
  },
  {
   "cell_type": "markdown",
   "metadata": {},
   "source": [
    "## Baseline model with regularizations"
   ]
  },
  {
   "cell_type": "code",
   "execution_count": 78,
   "metadata": {},
   "outputs": [
    {
     "name": "stdout",
     "output_type": "stream",
     "text": [
      "Train R2: 0.9458\n",
      "Test R2: 0.8493\n",
      "MAE: 0.4435\n",
      "Top 10 important features after regularization:\n",
      "             Feature  Importance\n",
      "1553           SLogP    0.276282\n",
      "1275            BIC0    0.099264\n",
      "3              nBase    0.073552\n",
      "1333      SlogP_VSA5    0.049612\n",
      "225           AATS1i    0.038628\n",
      "1269            SIC0    0.033695\n",
      "1312       PEOE_VSA6    0.028626\n",
      "1247  ETA_dEpsilon_D    0.025908\n",
      "1385          AMID_N    0.024682\n",
      "440          AATSC0i    0.022091\n"
     ]
    }
   ],
   "source": [
    "# Define target and features\n",
    "y_train = df.loc[train.index, 'C18RT']\n",
    "y_test = df.loc[test.index, 'C18RT']\n",
    "X_train, X_test = train[top_200_features], test[top_200_features]  # Use reduced features\n",
    "\n",
    "# Train Model with L1 and L2 Regularization\n",
    "regularized_model = XGBRegressor(\n",
    "    random_state=999,   # Reproducibility\n",
    "    reg_alpha=10.0,      # L1 regularization strength\n",
    "    reg_lambda=10.0,     # L2 regularization strength\n",
    "    n_estimators=100,   # Number of trees\n",
    "    learning_rate=0.1,  # Step size shrinkage\n",
    "    max_depth=6         # Maximum depth of trees\n",
    ")\n",
    "regularized_model.fit(X_train, y_train)\n",
    "\n",
    "# Predictions\n",
    "train_pred = regularized_model.predict(X_train)\n",
    "test_pred = regularized_model.predict(X_test)\n",
    "\n",
    "# Evaluate Model\n",
    "r2_train = r2_score(y_train, train_pred)\n",
    "r2_test = r2_score(y_test, test_pred)\n",
    "mae = mean_absolute_error(y_test, test_pred)\n",
    "\n",
    "# Print Evaluation Results\n",
    "print(f\"Train R2: {r2_train:.4f}\")\n",
    "print(f\"Test R2: {r2_test:.4f}\")\n",
    "print(f\"MAE: {mae:.4f}\")\n",
    "\n",
    "# Feature Importances\n",
    "feature_importances = regularized_model.feature_importances_\n",
    "feature_importance_df = pd.DataFrame({\n",
    "    'Feature': top_200_features,\n",
    "    'Importance': feature_importances\n",
    "}).sort_values(by='Importance', ascending=False)\n",
    "\n",
    "# Print Top 10 Features\n",
    "print(\"Top 10 important features after regularization:\")\n",
    "print(feature_importance_df.head(10))"
   ]
  },
  {
   "cell_type": "markdown",
   "metadata": {},
   "source": [
    "## Cross-validation"
   ]
  },
  {
   "cell_type": "code",
   "execution_count": 84,
   "metadata": {},
   "outputs": [
    {
     "name": "stdout",
     "output_type": "stream",
     "text": [
      "Starting cross-validation...\n",
      "\n",
      "Fold 1:\n",
      "  Train R2: 0.9466\n",
      "  Test R2: 0.8440\n",
      "  MAE: 0.4419\n",
      "\n",
      "Fold 2:\n",
      "  Train R2: 0.9433\n",
      "  Test R2: 0.8785\n",
      "  MAE: 0.4182\n",
      "\n",
      "Fold 3:\n",
      "  Train R2: 0.9456\n",
      "  Test R2: 0.8698\n",
      "  MAE: 0.4222\n",
      "\n",
      "Fold 4:\n",
      "  Train R2: 0.9439\n",
      "  Test R2: 0.8540\n",
      "  MAE: 0.4456\n",
      "\n",
      "Fold 5:\n",
      "  Train R2: 0.9478\n",
      "  Test R2: 0.8332\n",
      "  MAE: 0.4496\n",
      "\n",
      "Cross-validation results:\n",
      "  Average Train R2: 0.9454\n",
      "  Average Test R2: 0.8559\n",
      "  Average MAE: 0.4355\n"
     ]
    }
   ],
   "source": [
    "from xgboost import XGBRegressor\n",
    "from sklearn.metrics import r2_score, mean_absolute_error\n",
    "from sklearn.model_selection import KFold\n",
    "import pandas as pd\n",
    "\n",
    "# Define target and features\n",
    "y = df['C18RT']\n",
    "X = tmp_features[top_200_features]  # Use reduced features\n",
    "\n",
    "# Initialize the model with regularization\n",
    "model = XGBRegressor(\n",
    "    random_state=999,\n",
    "    reg_alpha=10.0,  # L1 regularization\n",
    "    reg_lambda=10.0,  # L2 regularization\n",
    "    n_estimators=100,\n",
    "    learning_rate=0.1,\n",
    "    max_depth=6\n",
    ")\n",
    "\n",
    "# Set up cross-validation\n",
    "kf = KFold(n_splits=5, shuffle=True, random_state=999)\n",
    "\n",
    "# Lists to store metrics for each fold\n",
    "train_r2_scores = []\n",
    "test_r2_scores = []\n",
    "mae_scores = []\n",
    "\n",
    "# Perform cross-validation\n",
    "print(\"Starting cross-validation...\\n\")\n",
    "for fold, (train_idx, test_idx) in enumerate(kf.split(X), start=1):\n",
    "    # Split data into train and test for this fold\n",
    "    X_train, X_test = X.iloc[train_idx], X.iloc[test_idx]\n",
    "    y_train, y_test = y.iloc[train_idx], y.iloc[test_idx]\n",
    "\n",
    "    # Train the model\n",
    "    model.fit(X_train, y_train)\n",
    "\n",
    "    # Predictions\n",
    "    train_pred = model.predict(X_train)\n",
    "    test_pred = model.predict(X_test)\n",
    "\n",
    "    # Calculate metrics\n",
    "    r2_train = r2_score(y_train, train_pred)\n",
    "    r2_test = r2_score(y_test, test_pred)\n",
    "    mae = mean_absolute_error(y_test, test_pred)\n",
    "\n",
    "    # Store metrics\n",
    "    train_r2_scores.append(r2_train)\n",
    "    test_r2_scores.append(r2_test)\n",
    "    mae_scores.append(mae)\n",
    "\n",
    "    # Print metrics for this fold\n",
    "    print(f\"Fold {fold}:\")\n",
    "    print(f\"  Train R2: {r2_train:.4f}\")\n",
    "    print(f\"  Test R2: {r2_test:.4f}\")\n",
    "    print(f\"  MAE: {mae:.4f}\\n\")\n",
    "\n",
    "# Print average metrics across all folds\n",
    "print(\"Cross-validation results:\")\n",
    "print(f\"  Average Train R2: {sum(train_r2_scores) / len(train_r2_scores):.4f}\")\n",
    "print(f\"  Average Test R2: {sum(test_r2_scores) / len(test_r2_scores):.4f}\")\n",
    "print(f\"  Average MAE: {sum(mae_scores) / len(mae_scores):.4f}\")\n"
   ]
  },
  {
   "cell_type": "code",
   "execution_count": 85,
   "metadata": {},
   "outputs": [
    {
     "data": {
      "image/png": "[encoded data removed]",
      "text/plain": [
       "<Figure size 640x480 with 1 Axes>"
      ]
     },
     "metadata": {},
     "output_type": "display_data"
    }
   ],
   "source": [
    "import matplotlib.pyplot as plt\n",
    "\n",
    "# Scatter plot for training predictions\n",
    "plt.scatter(y_train, train_pred, color='blue', label='Train')\n",
    "# Scatter plot for test predictions\n",
    "plt.scatter(y_test, test_pred, color='red', label='Test')\n",
    "plt.plot([min(y_train), max(y_train)], [min(y_train), max(y_train)], color='black', linestyle='--', label='Ideal')\n",
    "plt.xlabel(\"True Values\")\n",
    "plt.ylabel(\"Predicted Values\")\n",
    "plt.legend()\n",
    "plt.title(\"Model Predictions\")\n",
    "plt.show()\n"
   ]
  }
 ],
 "metadata": {
  "kernelspec": {
   "display_name": "autogluon",
   "language": "python",
   "name": "python3"
  },
  "language_info": {
   "codemirror_mode": {
    "name": "ipython",
    "version": 3
   },
   "file_extension": ".py",
   "mimetype": "text/x-python",
   "name": "python",
   "nbconvert_exporter": "python",
   "pygments_lexer": "ipython3",
   "version": "3.8.13"
  }
 },
 "nbformat": 4,
 "nbformat_minor": 2
}
